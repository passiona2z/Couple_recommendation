{
 "cells": [
  {
   "cell_type": "code",
   "execution_count": 1,
   "id": "e90e8a51-f455-42da-8f49-12cac998a955",
   "metadata": {},
   "outputs": [],
   "source": [
    "import pandas as pd\n",
    "import numpy as np\n",
    "\n",
    "import warnings \n",
    "warnings.filterwarnings('ignore')\n",
    "\n",
    "from sklearn.preprocessing import LabelEncoder\n",
    "\n",
    "import matplotlib.pyplot as plt\n",
    "from tensorflow.keras.models import Model\n",
    "from tensorflow.keras.layers import Input, Embedding, Dot, Add, Flatten\n",
    "from tensorflow.keras.regularizers import l2\n",
    "from tensorflow.keras.optimizers import Adam\n",
    "from tensorflow.keras.callbacks import EarlyStopping"
   ]
  },
  {
   "cell_type": "markdown",
   "id": "15564a32-b867-43e7-b1fd-ea306a2502d5",
   "metadata": {},
   "source": [
    "# 1. 데이터 불러오기"
   ]
  },
  {
   "cell_type": "code",
   "execution_count": 2,
   "id": "550608ea-8165-4339-b5c6-e58ad591e63c",
   "metadata": {},
   "outputs": [],
   "source": [
    "# 유저 데이터\n",
    "user = pd.read_csv('data/member_mate_sample.csv')\n",
    "\n",
    "# 프로필 열람 로그 데이터\n",
    "view = pd.read_pickle('data/view.pickle')\n",
    "\n",
    "# 관심 있어요 로그 데이터\n",
    "concern = pd.read_csv('data/concern.csv')\n",
    "\n",
    "# 영상 통화 로그 데이터\n",
    "call = pd.read_csv('data/call.csv')\n",
    "\n",
    "# 동물상 데이터 \n",
    "animal = pd.read_csv('data/animal.csv')"
   ]
  },
  {
   "cell_type": "markdown",
   "id": "cdc7b77c-8b52-4672-98a8-6f046c69e322",
   "metadata": {},
   "source": [
    "# 2. 데이터 전처리"
   ]
  },
  {
   "cell_type": "markdown",
   "id": "e88b2d8c-7728-4538-9d0a-c828618d0213",
   "metadata": {},
   "source": [
    "## 2-1. 유저 데이터 확인"
   ]
  },
  {
   "cell_type": "code",
   "execution_count": 3,
   "id": "24244ed1-1652-47b9-a7e0-01a744d05b49",
   "metadata": {},
   "outputs": [],
   "source": [
    "# 유저 데이터 처리\n",
    "\n",
    "df_user = user[user['mem_sex'] == 'f']\n",
    "\n",
    "df_user = df_user[['mem_no', 'mem_sex', 'mem_first_name']]\n",
    "\n",
    "le = LabelEncoder()\n",
    "df_user['user'] = le.fit_transform(df_user['mem_no'])\n",
    "\n",
    "df_user = df_user[['user','mem_no','mem_sex','mem_first_name']]\n",
    "\n",
    "df_user.sort_values('user', inplace=True)\n",
    "\n",
    "df_user.reset_index(drop=True, inplace=True)"
   ]
  },
  {
   "cell_type": "code",
   "execution_count": 4,
   "id": "752cb6c4-069a-476d-b48d-49d6e15f4175",
   "metadata": {},
   "outputs": [],
   "source": [
    "# mem_no를 넣으면 유저 이름을 반환해 주는 함수\n",
    "\n",
    "def user_info(n_mem_no):\n",
    "    if (df_user['user'] == n_mem_no).any():\n",
    "        return df_user[df_user['user'] == n_mem_no]['mem_no'].iloc[0]\n",
    "    else:\n",
    "        return False"
   ]
  },
  {
   "cell_type": "code",
   "execution_count": 5,
   "id": "257fb04a-9d02-4611-a848-be8b2a2d5568",
   "metadata": {},
   "outputs": [
    {
     "data": {
      "text/plain": [
       "31"
      ]
     },
     "execution_count": 5,
     "metadata": {},
     "output_type": "execute_result"
    }
   ],
   "source": [
    "# user_info 함수 확인\n",
    "# user:1 -> mem_no:31\n",
    "\n",
    "user_info(1)"
   ]
  },
  {
   "cell_type": "markdown",
   "id": "e3d8f488-2ac3-49f6-a6a6-7a455781e402",
   "metadata": {},
   "source": [
    "## 2-2. 평점 데이터 생성"
   ]
  },
  {
   "cell_type": "markdown",
   "id": "25506542-8833-4273-89ce-5af8d03999e9",
   "metadata": {},
   "source": [
    "- 보유한 로그 데이터를 기반으로 평점을 계산\n",
    "- 남성 평점 : ((view*1) + (concern*2) + (call*3))\n",
    "- 여성 평점 : ((view*1) + (concern*1.5) + (call*2))"
   ]
  },
  {
   "cell_type": "code",
   "execution_count": 6,
   "id": "8e0ddd4b-2c7f-4d98-ab8f-6a4bb72c5c92",
   "metadata": {},
   "outputs": [],
   "source": [
    "female_view = view[(view['mem_sex'] == 'f') & (view['ptr_mem_sex'] == 'm')]\n",
    "female_view['view_weight'] = 1\n",
    "female_view = female_view[['mem_no','ptr_mem_no','view_weight']]"
   ]
  },
  {
   "cell_type": "code",
   "execution_count": 7,
   "id": "67ea7233-3ee0-489b-8351-adac90d3684a",
   "metadata": {},
   "outputs": [],
   "source": [
    "female_concern = concern[(concern['mem_sex'] == 'f') & (concern['ptr_mem_sex'] == 'm')]\n",
    "female_concern['concern_weight'] = 1.5\n",
    "female_concern = female_concern[['mem_no','ptr_mem_no','concern_weight']]"
   ]
  },
  {
   "cell_type": "code",
   "execution_count": 8,
   "id": "4b9072f0-21b5-44c4-9380-c32c9931fd7e",
   "metadata": {},
   "outputs": [],
   "source": [
    "female_call = call[(call['mem_sex'] == 'f') & (call['ptr_mem_sex'] == 'm')]\n",
    "female_call['call_weight'] = 2.0\n",
    "female_call = female_call[['mem_no','ptr_mem_no','call_weight']]"
   ]
  },
  {
   "cell_type": "code",
   "execution_count": 9,
   "id": "6308b6c4-fbe1-4baf-bb0c-34d477103ee2",
   "metadata": {},
   "outputs": [],
   "source": [
    "# 평점 데이터 생성\n",
    "\n",
    "merge1 = pd.merge(female_call, female_concern, how='right', on=['mem_no','ptr_mem_no'])\n",
    "\n",
    "merge2 = pd.merge(merge1, female_view, how='right', on=['mem_no','ptr_mem_no'])\n",
    "\n",
    "df_rating = merge2.copy()\n",
    "\n",
    "df_rating['view_weight'].fillna(0, inplace=True)\n",
    "df_rating['concern_weight'].fillna(0, inplace=True) \n",
    "df_rating['call_weight'].fillna(0, inplace=True)\n",
    "\n",
    "df_rating['rating'] = df_rating['view_weight'] + df_rating['concern_weight'] + df_rating['call_weight']\n",
    "df_rating = df_rating[['mem_no','ptr_mem_no','rating']]"
   ]
  },
  {
   "cell_type": "code",
   "execution_count": 10,
   "id": "8cad35ad-5863-4c89-9b5e-0230a6cfd73b",
   "metadata": {},
   "outputs": [],
   "source": [
    "# 강아지상인 유저만 아이템으로 활용\n",
    "puppy = animal[animal['animal'] == 'puppy']\n",
    "puppy.rename(columns={'mem_no' : 'ptr_mem_no'}, inplace=True)\n",
    "\n",
    "df_puppy = pd.merge(df_rating, puppy, how='right')\n",
    "df_puppy.dropna(inplace=True)\n",
    "df_rating = df_puppy\n",
    "\n",
    "df_rating.drop_duplicates(inplace=True)"
   ]
  },
  {
   "cell_type": "markdown",
   "id": "8c06e2ff-057a-4e46-a663-7302c1990015",
   "metadata": {},
   "source": [
    "# 2-3. 데이터 전처리"
   ]
  },
  {
   "cell_type": "code",
   "execution_count": 11,
   "id": "68734499-302a-4669-97e5-86e0313dcf2a",
   "metadata": {},
   "outputs": [],
   "source": [
    "le = LabelEncoder()\n",
    "df_rating['user'] = le.fit_transform(df_rating['mem_no'])\n",
    "\n",
    "le = LabelEncoder()\n",
    "df_rating['item'] = le.fit_transform(df_rating['ptr_mem_no'])"
   ]
  },
  {
   "cell_type": "code",
   "execution_count": 12,
   "id": "b561b667-791c-417d-8329-c6b8ad76d3f3",
   "metadata": {},
   "outputs": [
    {
     "name": "stdout",
     "output_type": "stream",
     "text": [
      "고유한 유저 수 : 6138\n",
      "유저 id 최소값 : 0\n",
      "유저 id 최대값 : 6137\n"
     ]
    }
   ],
   "source": [
    "# 고유한 유저 수\n",
    "\n",
    "print(\"고유한 유저 수 :\", df_rating['user'].nunique())\n",
    "print(\"유저 id 최소값 :\", df_rating['user'].min())\n",
    "print(\"유저 id 최대값 :\", df_rating['user'].max())"
   ]
  },
  {
   "cell_type": "code",
   "execution_count": 13,
   "id": "ce61c10c-6a52-4e41-9b00-cc9df16f4c22",
   "metadata": {},
   "outputs": [
    {
     "name": "stdout",
     "output_type": "stream",
     "text": [
      "고유한 유저 수 : 2337\n",
      "유저 id 최소값 : 0\n",
      "유저 id 최대값 : 2336\n"
     ]
    }
   ],
   "source": [
    "# 고유한 아이템 수\n",
    "\n",
    "print(\"고유한 유저 수 :\", df_rating['item'].nunique())\n",
    "print(\"유저 id 최소값 :\", df_rating['item'].min())\n",
    "print(\"유저 id 최대값 :\", df_rating['item'].max())"
   ]
  },
  {
   "cell_type": "code",
   "execution_count": 14,
   "id": "117a1a0b-a6de-4299-9d43-ef334d919b48",
   "metadata": {},
   "outputs": [],
   "source": [
    "# item 바꾸기 전에 기존 item을 dictionary로 저장해 둔다.\n",
    "\n",
    "n_unique_item = df_rating['item'].nunique()\n",
    "item_new2old_dict = dict([(an_index, an_id) for (an_index, an_id) in zip(range(n_unique_item), df_rating['item'].unique())])\n",
    "item_old2new_dict = dict([(an_id, an_index) for (an_index, an_id) in zip(range(n_unique_item), df_rating['item'].unique())])"
   ]
  },
  {
   "cell_type": "code",
   "execution_count": 15,
   "id": "1b33272f-5324-4512-aea4-757cca56a252",
   "metadata": {},
   "outputs": [
    {
     "name": "stdout",
     "output_type": "stream",
     "text": [
      "평점 최소값 : 1.0\n",
      "평점 최대값 : 2.5\n"
     ]
    }
   ],
   "source": [
    "# 최소, 최대 평점.\n",
    "\n",
    "rating_min = df_rating['rating'].min()\n",
    "rating_max = df_rating['rating'].max()\n",
    "print(\"평점 최소값 :\", rating_min)\n",
    "print(\"평점 최대값 :\", rating_max)"
   ]
  },
  {
   "cell_type": "markdown",
   "id": "4fbd68e1-e9c3-4ab9-91e3-e517e1d9f784",
   "metadata": {},
   "source": [
    "# 3. tensorflow를 활용한 행렬분해"
   ]
  },
  {
   "cell_type": "markdown",
   "id": "36277221-2765-463d-8e02-dd39bc970a28",
   "metadata": {},
   "source": [
    "## 3-1. Simon Funk의 SVD 모델 정의."
   ]
  },
  {
   "cell_type": "code",
   "execution_count": 16,
   "id": "5e21efe0-5043-416d-ae2f-11ff57fab69f",
   "metadata": {},
   "outputs": [],
   "source": [
    "N = df_rating['user'].max() + 1    # 유저의 수.\n",
    "M = df_rating['item'].max() + 1   # 아이템의 수\n",
    "n_factors = 20                    # 은닉 차원.\n",
    "mu = df_rating['rating'].mean()"
   ]
  },
  {
   "cell_type": "code",
   "execution_count": 17,
   "id": "9050b3f3-ca4d-4dec-b8d4-ff5a0ff46329",
   "metadata": {},
   "outputs": [],
   "source": [
    "# TensorFlow 모델, Functional API 사용.\n",
    "u_in = Input(shape=(1,),name = \"Input_User\")             \n",
    "m_in = Input(shape=(1,),name = \"Input_Movie\")\n",
    "u_mat = Embedding(N, n_factors,name=\"U_mat\")(u_in)\n",
    "m_mat = Embedding(M, n_factors,name=\"M_mat\")(m_in)\n",
    "x = Dot(axes=2,name=\"Dot_Product\")([u_mat, m_mat])"
   ]
  },
  {
   "cell_type": "code",
   "execution_count": 18,
   "id": "3008fa57-1d54-4d54-acbb-907ec3efebb1",
   "metadata": {},
   "outputs": [],
   "source": [
    "u_bias = Embedding(N, 1, name=\"u_bias\")(u_in) \n",
    "m_bias = Embedding(M, 1, name=\"m_bias\")(m_in)\n",
    "x = Add(name=\"Biases\")([x, u_bias, m_bias])"
   ]
  },
  {
   "cell_type": "code",
   "execution_count": 19,
   "id": "6de87609-baca-47aa-af56-b14df0dd1559",
   "metadata": {},
   "outputs": [],
   "source": [
    "x = Flatten(name=\"Flatten\")(x) \n",
    "my_model = Model(inputs=[u_in, m_in], outputs=x)"
   ]
  },
  {
   "cell_type": "code",
   "execution_count": 20,
   "id": "a3e104cf-b3d9-4ea5-95d9-fde5c56cb646",
   "metadata": {},
   "outputs": [],
   "source": [
    "# 하이퍼 파라미터를 정의\n",
    "n_epochs = 50\n",
    "batch_size = 256\n",
    "learn_rate = 0.0001"
   ]
  },
  {
   "cell_type": "code",
   "execution_count": 21,
   "id": "7bb06c7a-8b17-4d95-96a6-66d2b4c7e874",
   "metadata": {},
   "outputs": [],
   "source": [
    "# Optimizer 객체 생성 후 컴파일\n",
    "\n",
    "my_optimizer=Adam(lr=learn_rate)\n",
    "my_model.compile(loss = \"mse\", optimizer = my_optimizer, metrics=[\"mse\"])"
   ]
  },
  {
   "cell_type": "code",
   "execution_count": 22,
   "id": "310a2195-3f76-467a-ad46-529bc3d677a4",
   "metadata": {},
   "outputs": [],
   "source": [
    "# 학습\n",
    "\n",
    "my_EarlyStop = EarlyStopping(monitor='val_loss', mode='min', verbose=1, patience=2)          # 조기 종료 허락!\n",
    "history = my_model.fit([df_rating['user'].values, df_rating['item'].values], df_rating['rating'].values - mu , epochs=n_epochs, batch_size = batch_size, validation_split = 0.3, verbose = 0, callbacks=[my_EarlyStop])"
   ]
  },
  {
   "cell_type": "code",
   "execution_count": 23,
   "id": "d988f2bc-0570-4564-b03e-0f7d9281f20d",
   "metadata": {},
   "outputs": [
    {
     "data": {
      "text/plain": [
       "<matplotlib.legend.Legend at 0x1ac4d31b7c0>"
      ]
     },
     "execution_count": 23,
     "metadata": {},
     "output_type": "execute_result"
    },
    {
     "data": {
      "image/png": "[encoded data removed]",
      "text/plain": [
       "<Figure size 432x288 with 1 Axes>"
      ]
     },
     "metadata": {
      "needs_background": "light"
     },
     "output_type": "display_data"
    }
   ],
   "source": [
    "# 모델 평가 \n",
    "loss = history.history['loss']\n",
    "val_loss = history.history['val_loss']\n",
    "\n",
    "plt.plot(loss)\n",
    "plt.plot(val_loss, 'r')\n",
    "plt.xlabel('Epochs')\n",
    "plt.ylabel('Loss')\n",
    "plt.title('Loss')\n",
    "plt.legend([\"Training\", \"Validation\"])"
   ]
  },
  {
   "cell_type": "markdown",
   "id": "7d5dfbb6-d913-45ea-bb61-63973a885c3d",
   "metadata": {},
   "source": [
    "## 3-2. 예측"
   ]
  },
  {
   "cell_type": "code",
   "execution_count": 24,
   "id": "8d0dcc89-9b31-48a9-9d02-573c1382507d",
   "metadata": {},
   "outputs": [],
   "source": [
    "# 특정 user에 대한 추천\n",
    "\n",
    "i_userId = 1\n",
    "item_ids = df_rating['item'].unique()\n",
    "user_ids = np.ones(item_ids.size)*i_userId\n",
    "my_preds = my_model.predict([user_ids, item_ids])\n",
    "#my_preds = np.clip(my_preds, df_rating['rating'].min(), df_rating['rating'].max())             # 예측된 평점 값이 min~max 구간에 있도록 clipping 해준다."
   ]
  },
  {
   "cell_type": "code",
   "execution_count": 25,
   "id": "bfbd12fd-4bfe-4e3b-aa4d-9e7212d54a0e",
   "metadata": {},
   "outputs": [],
   "source": [
    "item_names = [user_info(item_new2old_dict[x]) for x in item_ids]      # 실제 넘버로 변환.\n",
    "my_predictions = [(x,y) for (x,y) in zip(list(my_preds), item_names)]     # (평점, item) 튜플의 리스트. "
   ]
  },
  {
   "cell_type": "code",
   "execution_count": 26,
   "id": "250e7940-801d-4c12-86ca-f27d11f756f8",
   "metadata": {},
   "outputs": [],
   "source": [
    "# DataFrame으로 변환 후 출력 준비\n",
    "\n",
    "df_predicted_ratings = pd.DataFrame(data = my_predictions , columns = ['PredictedRating','item'])\n",
    "df_predicted_ratings.sort_values(by=\"PredictedRating\", ascending = False, inplace=True)\n",
    "df_predicted_ratings.reset_index(drop=True, inplace=True)"
   ]
  },
  {
   "cell_type": "code",
   "execution_count": 27,
   "id": "f1deb4f4-fc5a-4cc5-9f74-c49c22f3d14a",
   "metadata": {},
   "outputs": [
    {
     "data": {
      "text/plain": [
       "31"
      ]
     },
     "execution_count": 27,
     "metadata": {},
     "output_type": "execute_result"
    }
   ],
   "source": [
    "user_info(1)"
   ]
  },
  {
   "cell_type": "code",
   "execution_count": 28,
   "id": "f655750c-e8ca-4c40-a1a7-1149038fdebe",
   "metadata": {},
   "outputs": [
    {
     "data": {
      "text/html": [
       "<div>\n",
       "<style scoped>\n",
       "    .dataframe tbody tr th:only-of-type {\n",
       "        vertical-align: middle;\n",
       "    }\n",
       "\n",
       "    .dataframe tbody tr th {\n",
       "        vertical-align: top;\n",
       "    }\n",
       "\n",
       "    .dataframe thead th {\n",
       "        text-align: right;\n",
       "    }\n",
       "</style>\n",
       "<table border=\"1\" class=\"dataframe\">\n",
       "  <thead>\n",
       "    <tr style=\"text-align: right;\">\n",
       "      <th></th>\n",
       "      <th>PredictedRating</th>\n",
       "      <th>item</th>\n",
       "    </tr>\n",
       "  </thead>\n",
       "  <tbody>\n",
       "    <tr>\n",
       "      <th>0</th>\n",
       "      <td>[0.12227274]</td>\n",
       "      <td>638637</td>\n",
       "    </tr>\n",
       "    <tr>\n",
       "      <th>1</th>\n",
       "      <td>[0.0872856]</td>\n",
       "      <td>753746</td>\n",
       "    </tr>\n",
       "    <tr>\n",
       "      <th>2</th>\n",
       "      <td>[0.075633086]</td>\n",
       "      <td>505983</td>\n",
       "    </tr>\n",
       "    <tr>\n",
       "      <th>3</th>\n",
       "      <td>[0.07525457]</td>\n",
       "      <td>1073318</td>\n",
       "    </tr>\n",
       "    <tr>\n",
       "      <th>4</th>\n",
       "      <td>[0.062179063]</td>\n",
       "      <td>624928</td>\n",
       "    </tr>\n",
       "    <tr>\n",
       "      <th>5</th>\n",
       "      <td>[0.058283787]</td>\n",
       "      <td>641838</td>\n",
       "    </tr>\n",
       "    <tr>\n",
       "      <th>6</th>\n",
       "      <td>[0.058063418]</td>\n",
       "      <td>1051743</td>\n",
       "    </tr>\n",
       "    <tr>\n",
       "      <th>7</th>\n",
       "      <td>[0.057933107]</td>\n",
       "      <td>653780</td>\n",
       "    </tr>\n",
       "    <tr>\n",
       "      <th>8</th>\n",
       "      <td>[0.057501916]</td>\n",
       "      <td>595058</td>\n",
       "    </tr>\n",
       "    <tr>\n",
       "      <th>9</th>\n",
       "      <td>[0.056770742]</td>\n",
       "      <td>1126791</td>\n",
       "    </tr>\n",
       "    <tr>\n",
       "      <th>10</th>\n",
       "      <td>[0.05630663]</td>\n",
       "      <td>536837</td>\n",
       "    </tr>\n",
       "    <tr>\n",
       "      <th>11</th>\n",
       "      <td>[0.05581647]</td>\n",
       "      <td>613697</td>\n",
       "    </tr>\n",
       "    <tr>\n",
       "      <th>12</th>\n",
       "      <td>[0.054721422]</td>\n",
       "      <td>1088403</td>\n",
       "    </tr>\n",
       "    <tr>\n",
       "      <th>13</th>\n",
       "      <td>[0.054083645]</td>\n",
       "      <td>1121646</td>\n",
       "    </tr>\n",
       "    <tr>\n",
       "      <th>14</th>\n",
       "      <td>[0.05261091]</td>\n",
       "      <td>710665</td>\n",
       "    </tr>\n",
       "    <tr>\n",
       "      <th>15</th>\n",
       "      <td>[0.052215323]</td>\n",
       "      <td>653001</td>\n",
       "    </tr>\n",
       "    <tr>\n",
       "      <th>16</th>\n",
       "      <td>[0.050081663]</td>\n",
       "      <td>69020</td>\n",
       "    </tr>\n",
       "    <tr>\n",
       "      <th>17</th>\n",
       "      <td>[0.047692433]</td>\n",
       "      <td>672559</td>\n",
       "    </tr>\n",
       "    <tr>\n",
       "      <th>18</th>\n",
       "      <td>[0.047335457]</td>\n",
       "      <td>1072432</td>\n",
       "    </tr>\n",
       "    <tr>\n",
       "      <th>19</th>\n",
       "      <td>[0.04685232]</td>\n",
       "      <td>1058360</td>\n",
       "    </tr>\n",
       "  </tbody>\n",
       "</table>\n",
       "</div>"
      ],
      "text/plain": [
       "   PredictedRating     item\n",
       "0     [0.12227274]   638637\n",
       "1      [0.0872856]   753746\n",
       "2    [0.075633086]   505983\n",
       "3     [0.07525457]  1073318\n",
       "4    [0.062179063]   624928\n",
       "5    [0.058283787]   641838\n",
       "6    [0.058063418]  1051743\n",
       "7    [0.057933107]   653780\n",
       "8    [0.057501916]   595058\n",
       "9    [0.056770742]  1126791\n",
       "10    [0.05630663]   536837\n",
       "11    [0.05581647]   613697\n",
       "12   [0.054721422]  1088403\n",
       "13   [0.054083645]  1121646\n",
       "14    [0.05261091]   710665\n",
       "15   [0.052215323]   653001\n",
       "16   [0.050081663]    69020\n",
       "17   [0.047692433]   672559\n",
       "18   [0.047335457]  1072432\n",
       "19    [0.04685232]  1058360"
      ]
     },
     "execution_count": 28,
     "metadata": {},
     "output_type": "execute_result"
    }
   ],
   "source": [
    "# mem_no 31인 유저의 추천 결과\n",
    "# PredictedRating : 예측 평점\n",
    "# item : 추천된 유저\n",
    "\n",
    "df_predicted_ratings.head(20)"
   ]
  },
  {
   "cell_type": "code",
   "execution_count": 30,
   "id": "fcb4d9d5-0dcb-48fa-81a6-fcdccad2206f",
   "metadata": {},
   "outputs": [],
   "source": [
    "df_predicted_ratings.to_csv('data/top20.csv', index=False)"
   ]
  }
 ],
 "metadata": {
  "kernelspec": {
   "display_name": "Python 3",
   "language": "python",
   "name": "python3"
  },
  "language_info": {
   "codemirror_mode": {
    "name": "ipython",
    "version": 3
   },
   "file_extension": ".py",
   "mimetype": "text/x-python",
   "name": "python",
   "nbconvert_exporter": "python",
   "pygments_lexer": "ipython3",
   "version": "3.8.8"
  }
 },
 "nbformat": 4,
 "nbformat_minor": 5
}
