{
 "cells": [
  {
   "cell_type": "markdown",
   "id": "6fc5f4cc-244f-496a-8a06-9b436814b322",
   "metadata": {},
   "source": [
    "# 이미지 데이터 세트 구축"
   ]
  },
  {
   "cell_type": "code",
   "execution_count": 1,
   "id": "97191253-92ee-4903-b831-d5d723d09ec1",
   "metadata": {},
   "outputs": [],
   "source": [
    "import numpy as np\n",
    "import pandas as pd\n",
    "from sklearn.model_selection import train_test_split\n",
    "from PIL import Image\n",
    "import os, glob\n",
    "import matplotlib.pyplot as plt\n",
    "\n",
    "from tensorflow.keras.layers import Dense, Conv2D, MaxPooling2D, Flatten, Dropout\n",
    "from tensorflow.keras.models import Sequential\n",
    "from tensorflow.keras.callbacks import ModelCheckpoint\n",
    "from keras.utils import np_utils\n",
    "from keras.models import load_model\n",
    "import matplotlib.pyplot as plt\n",
    "import tensorflow as tf\n",
    "from tensorflow.keras.applications import VGG16\n",
    "\n",
    "import warnings \n",
    "warnings.filterwarnings('ignore')"
   ]
  },
  {
   "cell_type": "code",
   "execution_count": 2,
   "id": "a01a74c8-3b0a-4081-a0e7-1d628970337c",
   "metadata": {},
   "outputs": [],
   "source": [
    "# 데이터 경로 설정\n",
    "root_dir = \"data/\""
   ]
  },
  {
   "cell_type": "code",
   "execution_count": 3,
   "id": "a485dd98-f2e9-466d-a646-1f15fd34b893",
   "metadata": {},
   "outputs": [],
   "source": [
    "# 카테고리 지정 \n",
    "categories = [\"puppy\", \"cat\", \"dino\", \"rabbit\", \"fox\"]\n",
    "nb_classes = len(categories)"
   ]
  },
  {
   "cell_type": "code",
   "execution_count": 4,
   "id": "0c162c8c-e776-4b09-99a9-eb6bf82969f5",
   "metadata": {},
   "outputs": [],
   "source": [
    "# 이미지 크기 지정\n",
    "image_width = 64\n",
    "image_height = 64"
   ]
  },
  {
   "cell_type": "code",
   "execution_count": 5,
   "id": "686a4f49-3f87-45ba-80e2-a8821c0c6791",
   "metadata": {},
   "outputs": [
    {
     "name": "stdout",
     "output_type": "stream",
     "text": [
      "data/puppy/*.png\n",
      "data/cat/*.png\n",
      "data/dino/*.png\n",
      "data/rabbit/*.png\n",
      "data/fox/*.png\n"
     ]
    }
   ],
   "source": [
    "# 이미지 로딩\n",
    "X = [] # 이미지 데이터\n",
    "Y = [] # 레이블 데이터\n",
    "\n",
    "for idx, category in enumerate(categories):\n",
    "    image_dir = root_dir + category\n",
    "    files = glob.glob(image_dir + \"/\" + \"*.png\")\n",
    "    print(image_dir + \"/\" +\"*.png\")\n",
    "\n",
    "    for i, f in enumerate(files):\n",
    "        img = Image.open(f)\n",
    "        img = img.convert(\"RGB\")\n",
    "        img = img.resize((image_width, image_height))\n",
    "        data = np.asarray(img)\n",
    "        X.append(data)\n",
    "        Y.append(idx)\n",
    "\n",
    "X = np.array(X)\n",
    "Y = np.array(Y)"
   ]
  },
  {
   "cell_type": "code",
   "execution_count": 6,
   "id": "57e90e89-88ba-437d-8fd7-608164a30009",
   "metadata": {},
   "outputs": [
    {
     "name": "stdout",
     "output_type": "stream",
     "text": [
      "train.shape : 36\n",
      "test.shape : 13\n"
     ]
    }
   ],
   "source": [
    "# 학습 데이터와 테스트 데이터 나누기\n",
    "x_train, x_test, y_train, y_test = train_test_split(X, Y, test_size=0.25, stratify=Y)\n",
    "xy = (x_train, x_test, y_train, y_test)\n",
    "print(\"train.shape :\", len(x_train))\n",
    "print(\"test.shape :\", len(x_test))"
   ]
  },
  {
   "cell_type": "code",
   "execution_count": 7,
   "id": "6f38bad3-2b0e-4021-8315-0568e95fc7a4",
   "metadata": {},
   "outputs": [],
   "source": [
    "# 데이터 파일 저장\n",
    "np.save(root_dir + \"animal.npy\", xy)"
   ]
  },
  {
   "cell_type": "markdown",
   "id": "e29d3684-ff9c-4536-a4de-215cd9449deb",
   "metadata": {},
   "source": [
    "# 동물상 분류기 구축"
   ]
  },
  {
   "cell_type": "code",
   "execution_count": 8,
   "id": "7bb63c69-d4e1-488a-bd44-3653beb666f9",
   "metadata": {},
   "outputs": [],
   "source": [
    "# 데이터 로드\n",
    "x_train, x_test, y_train, y_test = np.load(\"data/animal.npy\", allow_pickle=True)\n",
    "x_train = x_train.astype(\"float\") / 256\n",
    "x_test = x_test.astype(\"float\") / 256\n",
    "y_train = np_utils.to_categorical(y_train, nb_classes)\n",
    "y_test = np_utils.to_categorical(y_test, nb_classes)\n"
   ]
  },
  {
   "cell_type": "code",
   "execution_count": 9,
   "id": "a3714485-fc4d-4cb2-bc5f-63860dbc16cd",
   "metadata": {},
   "outputs": [],
   "source": [
    "# 모델 구축\n",
    "model = Sequential([\n",
    "                    Conv2D(32, (3,3), activation = 'relu', input_shape=x_train.shape[1:]),\n",
    "                    MaxPooling2D(2,2),\n",
    "                    Dropout(0.5),\n",
    "                    Conv2D(64,(3,3), activation = 'relu'),\n",
    "                    MaxPooling2D(2,2),\n",
    "                    Dropout(0.5),\n",
    "                    Flatten(),\n",
    "                    Dense(128, activation = 'relu'),\n",
    "                    Dropout(0.5),\n",
    "                    Dense(nb_classes, activation = 'softmax')\n",
    "                    ])"
   ]
  },
  {
   "cell_type": "markdown",
   "id": "7f3beb71-3be8-412b-a429-ad3e38b3487d",
   "metadata": {},
   "source": [
    "# VGG16 모델 구축(2-1)\n",
    "transfer_model = VGG16(weights='imagenet', include_top=False, input_shape=(64, 64, 3))\n",
    "transfer_model.trainable=False\n",
    "model = Sequential([\n",
    "                    transfer_model,\n",
    "                    Flatten(),\n",
    "                    Dropout(0.5),\n",
    "                    Dense(512, activation='relu'),\n",
    "                    Dense(128, activation='relu'),\n",
    "                    Dense(5, activation='softmax'),\n",
    "])"
   ]
  },
  {
   "cell_type": "code",
   "execution_count": 10,
   "id": "250411f6-8f90-4341-a1ef-e765c565439f",
   "metadata": {},
   "outputs": [],
   "source": [
    "# 모델 컴파일\n",
    "model.compile(loss='binary_crossentropy', \n",
    "              optimizer='rmsprop', \n",
    "              metrics=['acc'])"
   ]
  },
  {
   "cell_type": "code",
   "execution_count": 11,
   "id": "65130f70-03e8-4e5a-98cf-6f1702f3197b",
   "metadata": {},
   "outputs": [],
   "source": [
    "# 체크포인트 설정\n",
    "checkpoint_path = \"my_checkpoint.ckpt\"\n",
    "checkpoint = ModelCheckpoint(filepath=checkpoint_path, \n",
    "                             save_weights_only=True, \n",
    "                             save_best_only=True, \n",
    "                             monitor='val_loss', \n",
    "                             verbose=0)"
   ]
  },
  {
   "cell_type": "code",
   "execution_count": 12,
   "id": "ee5d0fdf-182a-44f1-ab1d-810f714bc9b3",
   "metadata": {},
   "outputs": [],
   "source": [
    "# 모델 학습\n",
    "history = model.fit(x_train, y_train,\n",
    "                    validation_data=(x_test, y_test),\n",
    "                    batch_size=32,\n",
    "                    epochs=50,\n",
    "                    verbose=0,\n",
    "                    callbacks=[checkpoint])"
   ]
  },
  {
   "cell_type": "code",
   "execution_count": 13,
   "id": "079d8a64-7b3a-4632-ae32-65d53537f58f",
   "metadata": {},
   "outputs": [
    {
     "name": "stdout",
     "output_type": "stream",
     "text": [
      "1/1 [==============================] - 0s 16ms/step - loss: 0.4387 - acc: 0.6154\n"
     ]
    },
    {
     "data": {
      "image/png": "[encoded data removed]",
      "text/plain": [
       "<Figure size 432x288 with 1 Axes>"
      ]
     },
     "metadata": {
      "needs_background": "light"
     },
     "output_type": "display_data"
    },
    {
     "data": {
      "text/plain": [
       "<matplotlib.legend.Legend at 0x2a60d804d90>"
      ]
     },
     "execution_count": 13,
     "metadata": {},
     "output_type": "execute_result"
    },
    {
     "data": {
      "image/png": "[encoded data removed]",
      "text/plain": [
       "<Figure size 432x288 with 1 Axes>"
      ]
     },
     "metadata": {
      "needs_background": "light"
     },
     "output_type": "display_data"
    }
   ],
   "source": [
    "# 모델 평가\n",
    "model.load_weights(checkpoint_path)\n",
    "model.evaluate(x_test, y_test)\n",
    "\n",
    "loss = history.history['loss']\n",
    "val_loss = history.history['val_loss']\n",
    "acc = history.history['acc']\n",
    "val_acc = history.history['val_acc']\n",
    "\n",
    "plt.plot(loss)\n",
    "plt.plot(val_loss, 'r')\n",
    "plt.xlabel('Epochs')\n",
    "plt.ylabel('Loss')\n",
    "plt.title('Loss')\n",
    "plt.legend([\"Training\", \"Validation\"])\n",
    "\n",
    "plt.show()\n",
    "\n",
    "plt.plot(acc)\n",
    "plt.plot(val_acc, 'r')\n",
    "plt.xlabel('Epochs')\n",
    "plt.ylabel('Accuracy')\n",
    "plt.title('Accuracy')\n",
    "plt.legend(['Training', 'Validation'], loc=4)"
   ]
  },
  {
   "cell_type": "code",
   "execution_count": 14,
   "id": "18244c98-82ab-4873-b24d-2d97f2167f38",
   "metadata": {},
   "outputs": [],
   "source": [
    "# 모델 저장\n",
    "model.save(\"model/animal_model.h5\")"
   ]
  },
  {
   "cell_type": "markdown",
   "id": "6cd8f27a-d747-41e2-b211-c16a41a9cafe",
   "metadata": {},
   "source": [
    "# 모델 테스트"
   ]
  },
  {
   "cell_type": "markdown",
   "id": "2fc52dcf-e086-489c-bb9b-ec26c7fa37fb",
   "metadata": {},
   "source": [
    "- 남성 유저들의 이미지를 활용하여 동물상을 분류"
   ]
  },
  {
   "cell_type": "code",
   "execution_count": 15,
   "id": "ef5c2e1f-2df2-442f-8132-169d598df801",
   "metadata": {},
   "outputs": [],
   "source": [
    "# 테스트 데이터 전처리\n",
    "df = pd.read_csv('data/member_mate_sample.csv')\n",
    "df1 = df.copy()\n",
    "\n",
    "df = df[['mem_no','rprsn_photo','mem_sex']]\n",
    "df.dropna(inplace=True)\n",
    "df['rprsn_photo'] = df['rprsn_photo'].str[:-9].str.replace('|','')\n",
    "\n",
    "path = 'data/image/'\n",
    "files = os.listdir(path)\n",
    "\n",
    "data2 = pd.DataFrame()\n",
    "data2['a'] = files\n",
    "\n",
    "data2['mem_no'] = data2['a'].str.split('_').str[0]\n",
    "data2['mem_no'] = data2['mem_no'].astype('int64')\n",
    "\n",
    "data3 = pd.merge(data2, df1[['mem_no','mem_sex']])\n",
    "\n",
    "m_image = data3[data3['mem_sex'] == 'm']\n",
    "m_image.reset_index(inplace=True, drop=True)\n",
    "\n",
    "root_dir = \"data/image/\""
   ]
  },
  {
   "cell_type": "code",
   "execution_count": 23,
   "id": "421aaa96-9d54-443d-a7eb-50a7190a87af",
   "metadata": {},
   "outputs": [],
   "source": [
    "# 테스트 데이터 구축\n",
    "image_files = []\n",
    "\n",
    "for i in range(len(m_image)):\n",
    "    image_files.append(root_dir + m_image['a'][i])\n",
    "    \n",
    "image_size = 64\n",
    "categories = [\"puppy\", \"cat\", \"dino\", \"rabbit\", \"fox\"]\n",
    "nb_classes = len(categories)"
   ]
  },
  {
   "cell_type": "code",
   "execution_count": 24,
   "id": "c5c7ba6b-6b41-4dd0-ab7f-1d0919fdf02e",
   "metadata": {},
   "outputs": [],
   "source": [
    "X = []\n",
    "files = []\n",
    "for fname in image_files:\n",
    "    img = Image.open(fname)\n",
    "    img = img.convert(\"RGB\")\n",
    "    img = img.resize((image_size, image_size))\n",
    "    in_data = np.asarray(img)\n",
    "    in_data = in_data.astype(\"float\") / 256\n",
    "    X.append(in_data)\n",
    "    files.append(fname)\n",
    "\n",
    "X = np.array(X)"
   ]
  },
  {
   "cell_type": "code",
   "execution_count": 25,
   "id": "2d17337d-8592-4ad5-a0d6-c3b2c4ab3b5e",
   "metadata": {},
   "outputs": [],
   "source": [
    "# 모댈 불러오기\n",
    "model = load_model('model/animal_model.h5')"
   ]
  },
  {
   "cell_type": "code",
   "execution_count": 26,
   "id": "ce4f20e2-bc94-45d8-9e4b-9ccaa8170a4d",
   "metadata": {},
   "outputs": [],
   "source": [
    "# 예측\n",
    "pred = model.predict(X)"
   ]
  },
  {
   "cell_type": "code",
   "execution_count": 27,
   "id": "7c20c1f0-38c1-47f9-ac99-689df70a3d8e",
   "metadata": {},
   "outputs": [],
   "source": [
    "# 예측 데이터셋 생성\n",
    "animal_list = []\n",
    "\n",
    "for i in range(len(pred)):\n",
    "    animal_list.append(categories[pred[i].argmax()])\n",
    "    \n",
    "m_image['animal'] = animal_list\n",
    "m_image = m_image[['mem_no','animal']]"
   ]
  },
  {
   "cell_type": "code",
   "execution_count": 39,
   "id": "e4730a4b-cbaf-403f-b4c1-a416f921310f",
   "metadata": {},
   "outputs": [],
   "source": [
    "# to_csv\n",
    "m_image.to_csv('data/animal.csv', index=False)"
   ]
  }
 ],
 "metadata": {
  "kernelspec": {
   "display_name": "Python 3",
   "language": "python",
   "name": "python3"
  },
  "language_info": {
   "codemirror_mode": {
    "name": "ipython",
    "version": 3
   },
   "file_extension": ".py",
   "mimetype": "text/x-python",
   "name": "python",
   "nbconvert_exporter": "python",
   "pygments_lexer": "ipython3",
   "version": "3.8.8"
  }
 },
 "nbformat": 4,
 "nbformat_minor": 5
}
