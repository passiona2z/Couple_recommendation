{
  "nbformat": 4,
  "nbformat_minor": 0,
  "metadata": {
    "colab": {
      "name": "mediapipe_final.ipynb",
      "provenance": []
    },
    "kernelspec": {
      "name": "python3",
      "display_name": "Python 3"
    },
    "language_info": {
      "name": "python"
    }
  },
  "cells": [
    {
      "cell_type": "code",
      "metadata": {
        "id": "bhSZs3CImOoM",
        "colab": {
          "base_uri": "https://localhost:8080/"
        },
        "outputId": "95373cdf-7233-4c36-abf1-6b19aa46d98a"
      },
      "source": [
        "from google.colab import drive\n",
        "drive.mount('/content/drive')"
      ],
      "execution_count": 1,
      "outputs": [
        {
          "output_type": "stream",
          "name": "stdout",
          "text": [
            "Mounted at /content/drive\n"
          ]
        }
      ]
    },
    {
      "cell_type": "code",
      "metadata": {
        "id": "zIU_EGKFmScI",
        "colab": {
          "base_uri": "https://localhost:8080/"
        },
        "outputId": "b795e509-f3c1-4176-8970-e659c66d410a"
      },
      "source": [
        "!pip install mediapipe"
      ],
      "execution_count": 2,
      "outputs": [
        {
          "output_type": "stream",
          "name": "stdout",
          "text": [
            "Collecting mediapipe\n",
            "  Downloading mediapipe-0.8.9-cp37-cp37m-manylinux_2_17_x86_64.manylinux2014_x86_64.whl (32.8 MB)\n",
            "\u001b[K     |████████████████████████████████| 32.8 MB 170 kB/s \n",
            "\u001b[?25hRequirement already satisfied: matplotlib in /usr/local/lib/python3.7/dist-packages (from mediapipe) (3.2.2)\n",
            "Requirement already satisfied: numpy in /usr/local/lib/python3.7/dist-packages (from mediapipe) (1.19.5)\n",
            "Requirement already satisfied: absl-py in /usr/local/lib/python3.7/dist-packages (from mediapipe) (0.12.0)\n",
            "Requirement already satisfied: six in /usr/local/lib/python3.7/dist-packages (from mediapipe) (1.15.0)\n",
            "Requirement already satisfied: opencv-contrib-python in /usr/local/lib/python3.7/dist-packages (from mediapipe) (4.1.2.30)\n",
            "Requirement already satisfied: protobuf>=3.11.4 in /usr/local/lib/python3.7/dist-packages (from mediapipe) (3.17.3)\n",
            "Requirement already satisfied: wheel in /usr/local/lib/python3.7/dist-packages (from mediapipe) (0.37.0)\n",
            "Requirement already satisfied: attrs>=19.1.0 in /usr/local/lib/python3.7/dist-packages (from mediapipe) (21.2.0)\n",
            "Requirement already satisfied: python-dateutil>=2.1 in /usr/local/lib/python3.7/dist-packages (from matplotlib->mediapipe) (2.8.2)\n",
            "Requirement already satisfied: pyparsing!=2.0.4,!=2.1.2,!=2.1.6,>=2.0.1 in /usr/local/lib/python3.7/dist-packages (from matplotlib->mediapipe) (3.0.6)\n",
            "Requirement already satisfied: cycler>=0.10 in /usr/local/lib/python3.7/dist-packages (from matplotlib->mediapipe) (0.11.0)\n",
            "Requirement already satisfied: kiwisolver>=1.0.1 in /usr/local/lib/python3.7/dist-packages (from matplotlib->mediapipe) (1.3.2)\n",
            "Installing collected packages: mediapipe\n",
            "Successfully installed mediapipe-0.8.9\n"
          ]
        }
      ]
    },
    {
      "cell_type": "code",
      "metadata": {
        "id": "P9b7dsnWmTQw"
      },
      "source": [
        "import cv2\n",
        "import mediapipe as mp\n",
        "from google.colab.patches import cv2_imshow\n",
        "from sklearn.neighbors import KNeighborsClassifier\n",
        "from sklearn.model_selection import train_test_split\n",
        "from sklearn.linear_model import LinearRegression\n",
        "from sklearn.linear_model import LogisticRegression\n",
        "from sklearn.preprocessing import StandardScaler\n",
        "from sklearn.linear_model import Perceptron\n",
        "\n",
        "import numpy as np\n",
        "import pandas as pd\n",
        "import os\n",
        "import tensorflow as tf"
      ],
      "execution_count": 3,
      "outputs": []
    },
    {
      "cell_type": "code",
      "metadata": {
        "id": "o25uq415mU3A"
      },
      "source": [
        "f_folder_path = '/content/drive/MyDrive/광인사 팀프로젝트/기업 프로젝트_여보야/24 mediapipe 이미지 데이터/m'\n",
        "f_folder = os.listdir(f_folder_path)"
      ],
      "execution_count": 4,
      "outputs": []
    },
    {
      "cell_type": "code",
      "metadata": {
        "id": "LKyb-jvAmWDR"
      },
      "source": [
        "# 이미지 좌표 점 잘 찍히는지 판단하기 위한 코드\n",
        "mp_face_mesh = mp.solutions.face_mesh\n",
        "face_mesh = mp_face_mesh.FaceMesh(static_image_mode=True)\n",
        "\n",
        "count = 0\n",
        "for file in f_folder: #file = 50장 이미지 바로 접근\n",
        "    #이미지 좌표 찍기 \n",
        "    face = []\n",
        "    image = cv2.imread(f_folder_path + '/' + file)\n",
        "\n",
        "    height, width, _ = image.shape\n",
        "    rgb_image = cv2.cvtColor(image, cv2.COLOR_BGR2RGB)\n",
        "\n",
        "    result = face_mesh.process(rgb_image)\n",
        "    \n",
        "    for facial_landmarks in result.multi_face_landmarks:\n",
        "        for i in range(0, 468):\n",
        "            pt = facial_landmarks.landmark[i]\n",
        "            x = int(pt.x * width)\n",
        "            y = int(pt.y * height)\n",
        "\n",
        "            cv2.circle(image, (x, y), 3, (100, 100, 0), -1)\n",
        "\n",
        "    #cv2_imshow(image)\n",
        "\n",
        "    #데이터 프레임 생성\n",
        "    temp = ['class']\n",
        "    for i in range(1,469):\n",
        "        temp += ['x{}'.format(i), 'y{}'.format(i), 'z{}'.format(i)]\n",
        "\n",
        "    for facial_landmarks in result.multi_face_landmarks:\n",
        "        for i in range(0,468):\n",
        "            pt = facial_landmarks.landmark[i]\n",
        "            x = pt.x\n",
        "            y = pt.y\n",
        "            z = pt.z\n",
        "            face += [x,y,z]\n",
        "\n",
        "    df = pd.DataFrame([[file.split('_')[0]] + list(np.array([face]).flatten())])\n",
        "    df.columns = temp"
      ],
      "execution_count": 5,
      "outputs": []
    },
    {
      "cell_type": "code",
      "metadata": {
        "id": "givG4rWTmXoo"
      },
      "source": [
        "#데이터 프레임에 추가\n",
        "for a in range(len(f_folder)):\n",
        "    k = f_folder[a]\n",
        "    face = []\n",
        "    image = cv2.imread(f_folder_path+\"/\"+k)\n",
        "    height, width, _ = image.shape\n",
        "\n",
        "    rgb_image = cv2.cvtColor(image, cv2.COLOR_BGR2RGB)\n",
        "\n",
        "    result = face_mesh.process(rgb_image)\n",
        "    \n",
        "    for facial_landmarks in result.multi_face_landmarks:\n",
        "        for i in range(0,468):\n",
        "            pt = facial_landmarks.landmark[i]\n",
        "            x = pt.x\n",
        "            y = pt.y\n",
        "            z = pt.z\n",
        "            face += [x,y,z]\n",
        "\n",
        "    df.loc[a] = [k.split('_')[0]] + list(np.array([face]).flatten())"
      ],
      "execution_count": 6,
      "outputs": []
    },
    {
      "cell_type": "code",
      "metadata": {
        "id": "aWsfql9umY3J",
        "colab": {
          "base_uri": "https://localhost:8080/"
        },
        "outputId": "380738d4-fe02-404c-eb05-a6f2b4a9792d"
      },
      "source": [
        "df.sort_values(by='class').columns"
      ],
      "execution_count": 10,
      "outputs": [
        {
          "output_type": "execute_result",
          "data": {
            "text/plain": [
              "Index(['class', 'x1', 'y1', 'z1', 'x2', 'y2', 'z2', 'x3', 'y3', 'z3',\n",
              "       ...\n",
              "       'z465', 'x466', 'y466', 'z466', 'x467', 'y467', 'z467', 'x468', 'y468',\n",
              "       'z468'],\n",
              "      dtype='object', length=1405)"
            ]
          },
          "metadata": {},
          "execution_count": 10
        }
      ]
    },
    {
      "cell_type": "code",
      "metadata": {
        "id": "yivlGfY1mZwg",
        "colab": {
          "base_uri": "https://localhost:8080/"
        },
        "outputId": "5b0411df-fec0-403b-d892-b3336be05661"
      },
      "source": [
        "# train_data, test_data 나누기\n",
        "\n",
        "df_x_data = df.drop(['class'], axis =1)\n",
        "df_y_data = df['class']\n",
        "\n",
        "df_x_train, df_x_test, df_y_train, df_y_test = train_test_split(df_x_data, df_y_data,\n",
        "                                                                test_size=0.3, \n",
        "                                                                random_state=777,\n",
        "                                                                stratify=df_y_data)\n",
        "\n",
        "print(\"train.shape :\", df_x_train.shape)\n",
        "print(\"test.shape :\", df_x_test.shape)"
      ],
      "execution_count": 14,
      "outputs": [
        {
          "output_type": "stream",
          "name": "stdout",
          "text": [
            "train.shape : (35, 1404)\n",
            "test.shape : (15, 1404)\n"
          ]
        }
      ]
    },
    {
      "cell_type": "code",
      "metadata": {
        "id": "FESCm9yzma4Y"
      },
      "source": [
        "# 표준화하기\n",
        "sc = StandardScaler() #preprocessing 모듈에서 StandardScaler 클래스를 로드\n",
        "sc.fit(df_x_train) # 각 특성마다 샘플평균과 표준편차를 계산\n",
        "x_train_std = sc.transform(df_x_train)\n",
        "x_test_std = sc.transform(df_x_test)"
      ],
      "execution_count": 15,
      "outputs": []
    },
    {
      "cell_type": "code",
      "metadata": {
        "id": "FHcNqflpmcHI",
        "colab": {
          "base_uri": "https://localhost:8080/"
        },
        "outputId": "b39030a6-6601-4ca6-a767-8d0625e1285f"
      },
      "source": [
        "# 학습시키기\n",
        "# eat0 : 학습률, max_iter = epoch\n",
        "# random_state =1, epoch마다 훈련 세트를 섞은 결과가 나중에 재현되도록 \n",
        "ppn = Perceptron(max_iter=40, eta0=0.1, tol=1e-3, random_state=1)\n",
        "ppn.fit(x_train_std, df_y_train)\n",
        "\n",
        "y_pred = ppn.predict(x_test_std)\n",
        "\n",
        "print('잘못 분류된 샘플 개수 : %d' % (df_y_test != y_pred).sum())"
      ],
      "execution_count": 16,
      "outputs": [
        {
          "output_type": "stream",
          "name": "stdout",
          "text": [
            "잘못 분류된 샘플 개수 : 11\n"
          ]
        }
      ]
    },
    {
      "cell_type": "code",
      "metadata": {
        "id": "irQYuK7mmdmD",
        "colab": {
          "base_uri": "https://localhost:8080/"
        },
        "outputId": "dba2894b-97e9-4e3d-c3c2-e502bde9e137"
      },
      "source": [
        "# 정확도 확인\n",
        "from sklearn.metrics import accuracy_score\n",
        "\n",
        "print('정확도: %.2f' % accuracy_score(df_y_test, y_pred)) # 0.20\n",
        "print('정확도: %.2f' % ppn.score(x_test_std, df_y_test)) # 0.2\n"
      ],
      "execution_count": 17,
      "outputs": [
        {
          "output_type": "stream",
          "name": "stdout",
          "text": [
            "정확도: 0.27\n",
            "정확도: 0.27\n"
          ]
        }
      ]
    },
    {
      "cell_type": "markdown",
      "metadata": {
        "id": "677tI5yDmfpZ"
      },
      "source": [
        "여보야 이미지 대입"
      ]
    },
    {
      "cell_type": "code",
      "metadata": {
        "id": "g86ceoMZme45"
      },
      "source": [
        "df_ex = pd.read_excel('/content/drive/MyDrive/포트폴리오/STUDY/여보야/ex.xlsx', index_col=[0])"
      ],
      "execution_count": null,
      "outputs": []
    },
    {
      "cell_type": "code",
      "metadata": {
        "id": "ikKymdG2mjhh"
      },
      "source": [
        "df_ex"
      ],
      "execution_count": null,
      "outputs": []
    },
    {
      "cell_type": "code",
      "metadata": {
        "id": "XGQQwNefmkWI"
      },
      "source": [
        "# 표준화\n",
        "df_x_ex_data = df_ex.drop(['class'], axis =1)\n",
        "x_test_ex_std = sc.transform(df_x_ex_data)"
      ],
      "execution_count": null,
      "outputs": []
    },
    {
      "cell_type": "code",
      "metadata": {
        "id": "gj0QVigbmmOg"
      },
      "source": [
        "pred = ppn.predict(x_test_ex_std)\n",
        "result = [np.argmax(value) for value in pred]\n",
        "print('New data category : ', pred[result[0]])"
      ],
      "execution_count": null,
      "outputs": []
    }
  ]
}